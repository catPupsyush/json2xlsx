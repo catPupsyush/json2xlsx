{
 "cells": [
  {
   "cell_type": "code",
   "execution_count": 7,
   "metadata": {},
   "outputs": [],
   "source": [
    "# importing libraries\n",
    "import selenium\n",
    "from selenium import webdriver\n",
    "from selenium.webdriver.common.keys import Keys\n",
    "from selenium.webdriver.common.by import By\n",
    "from selenium.webdriver.support.ui import WebDriverWait\n",
    "from selenium.webdriver.support import expected_conditions as EC"
   ]
  },
  {
   "cell_type": "code",
   "execution_count": 17,
   "metadata": {
    "scrolled": true
   },
   "outputs": [
    {
     "name": "stdout",
     "output_type": "stream",
     "text": [
      "Sobyakin asshole. Once\n",
      "Sobyakin asshole. Twice\n",
      "Sobyakin asshole. Thrise\n",
      "Sobyakin asshole. Forth\n",
      "Sobyakin asshole. Five\n",
      "Sobyakin asshole. Six\n"
     ]
    }
   ],
   "source": [
    "# going to the target web page\n",
    "driver = webdriver.Chrome(executable_path=r\"chromedriver.exe\")\n",
    "driver.get(\"https://analytics.google.com/analytics/web/\")\n",
    "\n",
    "# checking that the opened page is desired\n",
    "assert \"Analytics\" in driver.title\n",
    "\n",
    "# setting login and password to pass\n",
    "mail_address =''\n",
    "password = ''\n",
    "\n",
    "# log-in (passing login) and clicking next (to the password) \n",
    "driver.find_element_by_id(\"identifierId\").clear()\n",
    "driver.find_element_by_id(\"identifierId\").send_keys(mail_address)\n",
    "driver.find_element_by_id(\"identifierNext\").click()\n",
    "\n",
    "\n",
    "# passing password \n",
    "## Unworkable code -- driver.find_element_by_id(\"passwrd\").send_keys(password)\n",
    "## Unworkable code -- driver.find_element_by_id(\"passwordNext\").click()driver.find_element_by_name(\"password\").send_keys(password)\n",
    "try:\n",
    "    element = WebDriverWait(driver, 30).until(\n",
    "        EC.visibility_of_element_located((By.NAME, 'password'))\n",
    "    )\n",
    "finally:\n",
    "    #driver.quit()\n",
    "    print('Sobyakin asshole. Once')\n",
    "driver.find_element_by_name(\"password\").send_keys(password)\n",
    "element = driver.find_element_by_id('passwordNext')\n",
    "driver.execute_script(\"arguments[0].click();\", element)\n",
    "\n",
    "# navigating to the target web page, step 1\n",
    "try:\n",
    "    element = WebDriverWait(driver, 30).until(\n",
    "        EC.text_to_be_present_in_element((By.PARTIAL_LINK_TEXT, 'АУДИТОРИЯ'), 'АУДИТОРИЯ')\n",
    "    )\n",
    "finally:\n",
    "    #driver.quit()\n",
    "    print('Sobyakin asshole. Twice')\n",
    "driver.find_element_by_partial_link_text(\"АУДИТОРИЯ\").click()\n",
    "\n",
    "# navigating to target web page, step 2\n",
    "try:\n",
    "    element = WebDriverWait(driver, 30).until(\n",
    "        EC.text_to_be_present_in_element((By.PARTIAL_LINK_TEXT, 'Статистика по пользователям'), 'Статистика по пользователям')\n",
    "    )\n",
    "finally:\n",
    "    #driver.quit()\n",
    "    print('Sobyakin asshole. Thrise')\n",
    "driver.find_element_by_partial_link_text(\"Статистика по пользователям\").click()\n",
    "\n",
    "# switching to the iframe by its name (galaxy) - that contains the right part of the page\n",
    "try:\n",
    "    element = WebDriverWait(driver, 60).until(\n",
    "        EC.visibility_of_element_located((By.NAME, 'galaxy'))\n",
    "    )\n",
    "finally:\n",
    "    #driver.quit()\n",
    "    print('Sobyakin asshole. Forth')\n",
    "driver.switch_to.frame(driver.find_element_by_name('galaxy'))\n",
    "\n",
    "# activating datepicker by finding it by classs name and clicking with executing script\n",
    "try:\n",
    "    element = WebDriverWait(driver, 30).until(\n",
    "        EC.visibility_of_element_located((By.CLASS_NAME, '_GArn'))\n",
    "    )\n",
    "finally:\n",
    "    #driver.quit()\n",
    "    print('Sobyakin asshole. Five')\n",
    "driver.find_element_by_class_name('_GArn').click()\n",
    "\n",
    "# selecting start and end dates\n",
    "driver.find_element_by_class_name('ID-datecontrol-primary-start').clear()\n",
    "driver.find_element_by_class_name('ID-datecontrol-primary-start').send_keys('01.01.2017')\n",
    "driver.find_element_by_class_name('ID-datecontrol-primary-end').clear()\n",
    "driver.find_element_by_class_name('ID-datecontrol-primary-end').send_keys('30.01.2017')\n",
    "driver.find_element_by_class_name('ID-apply').click()\n",
    "\n",
    "# displaying all the rows on the page\n",
    "try:\n",
    "    element = WebDriverWait(driver, 30).until(\n",
    "        EC.visibility_of_element_located((By.CLASS_NAME, 'ACTION-toggleRowShow'))\n",
    "    )\n",
    "finally:\n",
    "    #driver.quit()\n",
    "    print('Sobyakin asshole. Six')\n",
    "driver.find_element_by_class_name(\"ACTION-toggleRowShow\").send_keys(5000)"
   ]
  },
  {
   "cell_type": "code",
   "execution_count": 18,
   "metadata": {},
   "outputs": [],
   "source": [
    "elem = driver.find_elements_by_class_name(\"C_USER_LIST_TEXT_DIV\")\n",
    "static_len = len(elem)"
   ]
  },
  {
   "cell_type": "code",
   "execution_count": 21,
   "metadata": {},
   "outputs": [
    {
     "name": "stdout",
     "output_type": "stream",
     "text": [
      "Sobyakin asshole. seven\n",
      "Sobyakin asshole. eight\n",
      "Sobyakin asshole. nine\n",
      "Sobyakin asshole. seven\n",
      "Sobyakin asshole. eight\n",
      "Sobyakin asshole. nine\n",
      "Sobyakin asshole. seven\n",
      "Sobyakin asshole. eight\n",
      "Sobyakin asshole. nine\n",
      "Sobyakin asshole. seven\n",
      "Sobyakin asshole. eight\n",
      "Sobyakin asshole. nine\n",
      "Sobyakin asshole. seven\n",
      "Sobyakin asshole. eight\n",
      "Sobyakin asshole. nine\n",
      "Sobyakin asshole. seven\n",
      "Sobyakin asshole. eight\n",
      "Sobyakin asshole. nine\n",
      "Sobyakin asshole. seven\n",
      "Sobyakin asshole. eight\n",
      "Sobyakin asshole. nine\n",
      "Sobyakin asshole. seven\n",
      "Sobyakin asshole. eight\n",
      "Sobyakin asshole. nine\n",
      "Sobyakin asshole. seven\n",
      "Sobyakin asshole. eight\n",
      "Sobyakin asshole. nine\n",
      "Sobyakin asshole. seven\n",
      "Sobyakin asshole. eight\n",
      "Sobyakin asshole. nine\n"
     ]
    }
   ],
   "source": [
    "import time\n",
    "for number in range(0,10):\n",
    "    try:\n",
    "        element = WebDriverWait(driver, 30).until(EC.visibility_of_element_located((By.CLASS_NAME, 'C_USER_LIST_TEXT_DIV'))    )\n",
    "    finally:\n",
    "            #driver.quit()\n",
    "        print('Sobyakin asshole. seven')\n",
    "    #time.sleep(5)\n",
    "    elem = driver.find_elements_by_class_name(\"C_USER_LIST_TEXT_DIV\")\n",
    "    elem[number].click()\n",
    "#    time.sleep(5)\n",
    "    try:\n",
    "        item = WebDriverWait(driver, 30).until(EC.visibility_of_element_located((By.CLASS_NAME, '_GAGW'))    )\n",
    "    finally:\n",
    "            #driver.quit()\n",
    "        print('Sobyakin asshole. eight')\n",
    "    item = driver.find_elements_by_class_name(\"_GAGW\")\n",
    "    item[5].click()\n",
    "    driver.back()\n",
    "    driver.back()\n",
    "#    driver.back()\n",
    "#    driver.back()\n",
    "#    driver.back()\n",
    "    try:\n",
    "        element = WebDriverWait(driver, 30).until(EC.visibility_of_element_located((By.NAME, 'galaxy'))    )\n",
    "    finally:\n",
    "            #driver.quit()\n",
    "        print('Sobyakin asshole. nine')\n",
    "#    time.sleep(15)\n",
    "    driver.switch_to.frame(driver.find_element_by_name('galaxy'))\n",
    "#    time.sleep(5)\n"
   ]
  },
  {
   "cell_type": "code",
   "execution_count": null,
   "metadata": {},
   "outputs": [],
   "source": []
  },
  {
   "cell_type": "code",
   "execution_count": 22,
   "metadata": {},
   "outputs": [],
   "source": [
    "driver.close()"
   ]
  },
  {
   "cell_type": "code",
   "execution_count": null,
   "metadata": {},
   "outputs": [],
   "source": []
  },
  {
   "cell_type": "code",
   "execution_count": null,
   "metadata": {},
   "outputs": [],
   "source": []
  },
  {
   "cell_type": "code",
   "execution_count": null,
   "metadata": {},
   "outputs": [],
   "source": []
  },
  {
   "cell_type": "code",
   "execution_count": null,
   "metadata": {},
   "outputs": [],
   "source": []
  },
  {
   "cell_type": "code",
   "execution_count": null,
   "metadata": {},
   "outputs": [],
   "source": []
  },
  {
   "cell_type": "code",
   "execution_count": null,
   "metadata": {},
   "outputs": [],
   "source": []
  },
  {
   "cell_type": "code",
   "execution_count": null,
   "metadata": {},
   "outputs": [],
   "source": []
  },
  {
   "cell_type": "code",
   "execution_count": 53,
   "metadata": {
    "scrolled": true
   },
   "outputs": [],
   "source": [
    "#driver.find_element_by_class_name(\"_GAw\")"
   ]
  },
  {
   "cell_type": "code",
   "execution_count": 63,
   "metadata": {},
   "outputs": [
    {
     "ename": "NoSuchElementException",
     "evalue": "Message: no such element: Unable to locate element: {\"method\":\"class name\",\"selector\":\"_GArn\"}\n  (Session info: chrome=67.0.3396.99)\n  (Driver info: chromedriver=2.40.565498 (ea082db3280dd6843ebfb08a625e3eb905c4f5ab),platform=Windows NT 6.1.7601 SP1 x86_64)\n",
     "output_type": "error",
     "traceback": [
      "\u001b[1;31m---------------------------------------------------------------------------\u001b[0m",
      "\u001b[1;31mNoSuchElementException\u001b[0m                    Traceback (most recent call last)",
      "\u001b[1;32m<ipython-input-63-091dabf88414>\u001b[0m in \u001b[0;36m<module>\u001b[1;34m()\u001b[0m\n\u001b[0;32m     15\u001b[0m     \u001b[0mtime\u001b[0m\u001b[1;33m.\u001b[0m\u001b[0msleep\u001b[0m\u001b[1;33m(\u001b[0m\u001b[1;36m15\u001b[0m\u001b[1;33m)\u001b[0m\u001b[1;33m\u001b[0m\u001b[0m\n\u001b[0;32m     16\u001b[0m     \u001b[0mdriver\u001b[0m\u001b[1;33m.\u001b[0m\u001b[0mswitch_to\u001b[0m\u001b[1;33m.\u001b[0m\u001b[0mframe\u001b[0m\u001b[1;33m(\u001b[0m\u001b[0mdriver\u001b[0m\u001b[1;33m.\u001b[0m\u001b[0mfind_element_by_name\u001b[0m\u001b[1;33m(\u001b[0m\u001b[1;34m'galaxy'\u001b[0m\u001b[1;33m)\u001b[0m\u001b[1;33m)\u001b[0m\u001b[1;33m\u001b[0m\u001b[0m\n\u001b[1;32m---> 17\u001b[1;33m     \u001b[0mdriver\u001b[0m\u001b[1;33m.\u001b[0m\u001b[0mfind_element_by_class_name\u001b[0m\u001b[1;33m(\u001b[0m\u001b[1;34m'_GArn'\u001b[0m\u001b[1;33m)\u001b[0m\u001b[1;33m.\u001b[0m\u001b[0mclick\u001b[0m\u001b[1;33m(\u001b[0m\u001b[1;33m)\u001b[0m\u001b[1;33m\u001b[0m\u001b[0m\n\u001b[0m\u001b[0;32m     18\u001b[0m     \u001b[0mdriver\u001b[0m\u001b[1;33m.\u001b[0m\u001b[0mfind_element_by_class_name\u001b[0m\u001b[1;33m(\u001b[0m\u001b[1;34m'ID-datecontrol-primary-start'\u001b[0m\u001b[1;33m)\u001b[0m\u001b[1;33m.\u001b[0m\u001b[0mclear\u001b[0m\u001b[1;33m(\u001b[0m\u001b[1;33m)\u001b[0m\u001b[1;33m\u001b[0m\u001b[0m\n\u001b[0;32m     19\u001b[0m     \u001b[0mdriver\u001b[0m\u001b[1;33m.\u001b[0m\u001b[0mfind_element_by_class_name\u001b[0m\u001b[1;33m(\u001b[0m\u001b[1;34m'ID-datecontrol-primary-start'\u001b[0m\u001b[1;33m)\u001b[0m\u001b[1;33m.\u001b[0m\u001b[0msend_keys\u001b[0m\u001b[1;33m(\u001b[0m\u001b[1;34m'01.01.2017'\u001b[0m\u001b[1;33m)\u001b[0m\u001b[1;33m\u001b[0m\u001b[0m\n",
      "\u001b[1;32mC:\\ProgramData\\Anaconda3\\lib\\site-packages\\selenium\\webdriver\\remote\\webdriver.py\u001b[0m in \u001b[0;36mfind_element_by_class_name\u001b[1;34m(self, name)\u001b[0m\n\u001b[0;32m    555\u001b[0m             \u001b[0melement\u001b[0m \u001b[1;33m=\u001b[0m \u001b[0mdriver\u001b[0m\u001b[1;33m.\u001b[0m\u001b[0mfind_element_by_class_name\u001b[0m\u001b[1;33m(\u001b[0m\u001b[1;34m'foo'\u001b[0m\u001b[1;33m)\u001b[0m\u001b[1;33m\u001b[0m\u001b[0m\n\u001b[0;32m    556\u001b[0m         \"\"\"\n\u001b[1;32m--> 557\u001b[1;33m         \u001b[1;32mreturn\u001b[0m \u001b[0mself\u001b[0m\u001b[1;33m.\u001b[0m\u001b[0mfind_element\u001b[0m\u001b[1;33m(\u001b[0m\u001b[0mby\u001b[0m\u001b[1;33m=\u001b[0m\u001b[0mBy\u001b[0m\u001b[1;33m.\u001b[0m\u001b[0mCLASS_NAME\u001b[0m\u001b[1;33m,\u001b[0m \u001b[0mvalue\u001b[0m\u001b[1;33m=\u001b[0m\u001b[0mname\u001b[0m\u001b[1;33m)\u001b[0m\u001b[1;33m\u001b[0m\u001b[0m\n\u001b[0m\u001b[0;32m    558\u001b[0m \u001b[1;33m\u001b[0m\u001b[0m\n\u001b[0;32m    559\u001b[0m     \u001b[1;32mdef\u001b[0m \u001b[0mfind_elements_by_class_name\u001b[0m\u001b[1;33m(\u001b[0m\u001b[0mself\u001b[0m\u001b[1;33m,\u001b[0m \u001b[0mname\u001b[0m\u001b[1;33m)\u001b[0m\u001b[1;33m:\u001b[0m\u001b[1;33m\u001b[0m\u001b[0m\n",
      "\u001b[1;32mC:\\ProgramData\\Anaconda3\\lib\\site-packages\\selenium\\webdriver\\remote\\webdriver.py\u001b[0m in \u001b[0;36mfind_element\u001b[1;34m(self, by, value)\u001b[0m\n\u001b[0;32m    955\u001b[0m         return self.execute(Command.FIND_ELEMENT, {\n\u001b[0;32m    956\u001b[0m             \u001b[1;34m'using'\u001b[0m\u001b[1;33m:\u001b[0m \u001b[0mby\u001b[0m\u001b[1;33m,\u001b[0m\u001b[1;33m\u001b[0m\u001b[0m\n\u001b[1;32m--> 957\u001b[1;33m             'value': value})['value']\n\u001b[0m\u001b[0;32m    958\u001b[0m \u001b[1;33m\u001b[0m\u001b[0m\n\u001b[0;32m    959\u001b[0m     \u001b[1;32mdef\u001b[0m \u001b[0mfind_elements\u001b[0m\u001b[1;33m(\u001b[0m\u001b[0mself\u001b[0m\u001b[1;33m,\u001b[0m \u001b[0mby\u001b[0m\u001b[1;33m=\u001b[0m\u001b[0mBy\u001b[0m\u001b[1;33m.\u001b[0m\u001b[0mID\u001b[0m\u001b[1;33m,\u001b[0m \u001b[0mvalue\u001b[0m\u001b[1;33m=\u001b[0m\u001b[1;32mNone\u001b[0m\u001b[1;33m)\u001b[0m\u001b[1;33m:\u001b[0m\u001b[1;33m\u001b[0m\u001b[0m\n",
      "\u001b[1;32mC:\\ProgramData\\Anaconda3\\lib\\site-packages\\selenium\\webdriver\\remote\\webdriver.py\u001b[0m in \u001b[0;36mexecute\u001b[1;34m(self, driver_command, params)\u001b[0m\n\u001b[0;32m    312\u001b[0m         \u001b[0mresponse\u001b[0m \u001b[1;33m=\u001b[0m \u001b[0mself\u001b[0m\u001b[1;33m.\u001b[0m\u001b[0mcommand_executor\u001b[0m\u001b[1;33m.\u001b[0m\u001b[0mexecute\u001b[0m\u001b[1;33m(\u001b[0m\u001b[0mdriver_command\u001b[0m\u001b[1;33m,\u001b[0m \u001b[0mparams\u001b[0m\u001b[1;33m)\u001b[0m\u001b[1;33m\u001b[0m\u001b[0m\n\u001b[0;32m    313\u001b[0m         \u001b[1;32mif\u001b[0m \u001b[0mresponse\u001b[0m\u001b[1;33m:\u001b[0m\u001b[1;33m\u001b[0m\u001b[0m\n\u001b[1;32m--> 314\u001b[1;33m             \u001b[0mself\u001b[0m\u001b[1;33m.\u001b[0m\u001b[0merror_handler\u001b[0m\u001b[1;33m.\u001b[0m\u001b[0mcheck_response\u001b[0m\u001b[1;33m(\u001b[0m\u001b[0mresponse\u001b[0m\u001b[1;33m)\u001b[0m\u001b[1;33m\u001b[0m\u001b[0m\n\u001b[0m\u001b[0;32m    315\u001b[0m             response['value'] = self._unwrap_value(\n\u001b[0;32m    316\u001b[0m                 response.get('value', None))\n",
      "\u001b[1;32mC:\\ProgramData\\Anaconda3\\lib\\site-packages\\selenium\\webdriver\\remote\\errorhandler.py\u001b[0m in \u001b[0;36mcheck_response\u001b[1;34m(self, response)\u001b[0m\n\u001b[0;32m    240\u001b[0m                 \u001b[0malert_text\u001b[0m \u001b[1;33m=\u001b[0m \u001b[0mvalue\u001b[0m\u001b[1;33m[\u001b[0m\u001b[1;34m'alert'\u001b[0m\u001b[1;33m]\u001b[0m\u001b[1;33m.\u001b[0m\u001b[0mget\u001b[0m\u001b[1;33m(\u001b[0m\u001b[1;34m'text'\u001b[0m\u001b[1;33m)\u001b[0m\u001b[1;33m\u001b[0m\u001b[0m\n\u001b[0;32m    241\u001b[0m             \u001b[1;32mraise\u001b[0m \u001b[0mexception_class\u001b[0m\u001b[1;33m(\u001b[0m\u001b[0mmessage\u001b[0m\u001b[1;33m,\u001b[0m \u001b[0mscreen\u001b[0m\u001b[1;33m,\u001b[0m \u001b[0mstacktrace\u001b[0m\u001b[1;33m,\u001b[0m \u001b[0malert_text\u001b[0m\u001b[1;33m)\u001b[0m\u001b[1;33m\u001b[0m\u001b[0m\n\u001b[1;32m--> 242\u001b[1;33m         \u001b[1;32mraise\u001b[0m \u001b[0mexception_class\u001b[0m\u001b[1;33m(\u001b[0m\u001b[0mmessage\u001b[0m\u001b[1;33m,\u001b[0m \u001b[0mscreen\u001b[0m\u001b[1;33m,\u001b[0m \u001b[0mstacktrace\u001b[0m\u001b[1;33m)\u001b[0m\u001b[1;33m\u001b[0m\u001b[0m\n\u001b[0m\u001b[0;32m    243\u001b[0m \u001b[1;33m\u001b[0m\u001b[0m\n\u001b[0;32m    244\u001b[0m     \u001b[1;32mdef\u001b[0m \u001b[0m_value_or_default\u001b[0m\u001b[1;33m(\u001b[0m\u001b[0mself\u001b[0m\u001b[1;33m,\u001b[0m \u001b[0mobj\u001b[0m\u001b[1;33m,\u001b[0m \u001b[0mkey\u001b[0m\u001b[1;33m,\u001b[0m \u001b[0mdefault\u001b[0m\u001b[1;33m)\u001b[0m\u001b[1;33m:\u001b[0m\u001b[1;33m\u001b[0m\u001b[0m\n",
      "\u001b[1;31mNoSuchElementException\u001b[0m: Message: no such element: Unable to locate element: {\"method\":\"class name\",\"selector\":\"_GArn\"}\n  (Session info: chrome=67.0.3396.99)\n  (Driver info: chromedriver=2.40.565498 (ea082db3280dd6843ebfb08a625e3eb905c4f5ab),platform=Windows NT 6.1.7601 SP1 x86_64)\n"
     ]
    }
   ],
   "source": [
    "import time\n",
    "for number in range(0,static_len):\n",
    "    time.sleep(5)\n",
    "    elem = driver.find_elements_by_class_name(\"C_USER_LIST_TEXT_DIV\")\n",
    "    elem[number].click()\n",
    "    time.sleep(5)\n",
    "    item = driver.find_elements_by_class_name(\"_GAGW\")\n",
    "    item[5].click()\n",
    "    driver.back()\n",
    "    driver.back()\n",
    "#    driver.back()\n",
    "#    driver.back()\n",
    "#    driver.back()\n",
    "    driver.refresh()\n",
    "    time.sleep(15)\n",
    "    driver.switch_to.frame(driver.find_element_by_name('galaxy'))\n",
    "    driver.find_element_by_class_name('_GArn').click()\n",
    "    driver.find_element_by_class_name('ID-datecontrol-primary-start').clear()\n",
    "    driver.find_element_by_class_name('ID-datecontrol-primary-start').send_keys('01.01.2017')\n",
    "    driver.find_element_by_class_name('ID-datecontrol-primary-end').clear()\n",
    "    driver.find_element_by_class_name('ID-datecontrol-primary-end').send_keys('30.01.2017')\n",
    "    driver.find_element_by_class_name('ID-apply').click()\n",
    "    driver.find_element_by_class_name(\"ACTION-toggleRowShow\").send_keys(5000)\n",
    "    time.sleep(5)\n"
   ]
  },
  {
   "cell_type": "code",
   "execution_count": null,
   "metadata": {},
   "outputs": [],
   "source": []
  },
  {
   "cell_type": "code",
   "execution_count": 34,
   "metadata": {
    "collapsed": true,
    "scrolled": true
   },
   "outputs": [],
   "source": []
  },
  {
   "cell_type": "code",
   "execution_count": 1,
   "metadata": {
    "collapsed": true
   },
   "outputs": [],
   "source": []
  },
  {
   "cell_type": "code",
   "execution_count": 22,
   "metadata": {
    "collapsed": true
   },
   "outputs": [],
   "source": []
  },
  {
   "cell_type": "code",
   "execution_count": 16,
   "metadata": {
    "collapsed": true
   },
   "outputs": [],
   "source": []
  },
  {
   "cell_type": "code",
   "execution_count": 18,
   "metadata": {
    "collapsed": true
   },
   "outputs": [],
   "source": []
  },
  {
   "cell_type": "code",
   "execution_count": null,
   "metadata": {
    "collapsed": true
   },
   "outputs": [],
   "source": []
  },
  {
   "cell_type": "code",
   "execution_count": null,
   "metadata": {
    "collapsed": true
   },
   "outputs": [],
   "source": []
  }
 ],
 "metadata": {
  "kernelspec": {
   "display_name": "Python 3",
   "language": "python",
   "name": "python3"
  },
  "language_info": {
   "codemirror_mode": {
    "name": "ipython",
    "version": 3
   },
   "file_extension": ".py",
   "mimetype": "text/x-python",
   "name": "python",
   "nbconvert_exporter": "python",
   "pygments_lexer": "ipython3",
   "version": "3.6.5"
  }
 },
 "nbformat": 4,
 "nbformat_minor": 2
}
