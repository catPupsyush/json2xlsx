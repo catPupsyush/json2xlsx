{
 "cells": [
  {
   "cell_type": "code",
   "execution_count": 2,
   "metadata": {
    "collapsed": true
   },
   "outputs": [],
   "source": [
    "import json\n",
    "import codecs\n",
    "import pandas as pd\n",
    "from pandas.io.json import json_normalize"
   ]
  },
  {
   "cell_type": "code",
   "execution_count": 4,
   "metadata": {
    "collapsed": true
   },
   "outputs": [],
   "source": [
    "#json_data = open('user-report-export.json', encoding='utf8').read()"
   ]
  },
  {
   "cell_type": "code",
   "execution_count": 4,
   "metadata": {
    "collapsed": true
   },
   "outputs": [],
   "source": [
    "with open('user-report-export.json', encoding='utf8') as f:\n",
    "    raw_data = json.load(f)"
   ]
  },
  {
   "cell_type": "code",
   "execution_count": 5,
   "metadata": {},
   "outputs": [],
   "source": [
    "# Exploring top level dataset with known parent node 'dates'\n",
    "\n",
    "#top_level_dataset = json_normalize(raw_data['dates'])\n",
    "#print(type(d))\n",
    "#print(type(top_level_dataset))\n",
    "#top_level_dataset.head(3)"
   ]
  },
  {
   "cell_type": "code",
   "execution_count": 21,
   "metadata": {
    "scrolled": true
   },
   "outputs": [
    {
     "data": {
      "text/html": [
       "<div>\n",
       "<style>\n",
       "    .dataframe thead tr:only-child th {\n",
       "        text-align: right;\n",
       "    }\n",
       "\n",
       "    .dataframe thead th {\n",
       "        text-align: left;\n",
       "    }\n",
       "\n",
       "    .dataframe tbody tr th {\n",
       "        vertical-align: top;\n",
       "    }\n",
       "</style>\n",
       "<table border=\"1\" class=\"dataframe\">\n",
       "  <thead>\n",
       "    <tr style=\"text-align: right;\">\n",
       "      <th></th>\n",
       "      <th>activities</th>\n",
       "      <th>activitySummary</th>\n",
       "      <th>channel</th>\n",
       "      <th>deviceCategory</th>\n",
       "      <th>duration</th>\n",
       "    </tr>\n",
       "  </thead>\n",
       "  <tbody>\n",
       "    <tr>\n",
       "      <th>0</th>\n",
       "      <td>[{'time': '9:51 PM', 'type': 'PAGEVIEW', 'repe...</td>\n",
       "      <td>{'PAGEVIEW': '1'}</td>\n",
       "      <td>Referral</td>\n",
       "      <td>desktop</td>\n",
       "      <td>00:00</td>\n",
       "    </tr>\n",
       "    <tr>\n",
       "      <th>1</th>\n",
       "      <td>[{'time': '8:15 PM', 'type': 'PAGEVIEW', 'repe...</td>\n",
       "      <td>{'PAGEVIEW': '1'}</td>\n",
       "      <td>Referral</td>\n",
       "      <td>desktop</td>\n",
       "      <td>00:00</td>\n",
       "    </tr>\n",
       "    <tr>\n",
       "      <th>2</th>\n",
       "      <td>[{'time': '7:02 PM', 'type': 'PAGEVIEW', 'repe...</td>\n",
       "      <td>{'PAGEVIEW': '1'}</td>\n",
       "      <td>Referral</td>\n",
       "      <td>desktop</td>\n",
       "      <td>00:00</td>\n",
       "    </tr>\n",
       "  </tbody>\n",
       "</table>\n",
       "</div>"
      ],
      "text/plain": [
       "                                          activities    activitySummary  \\\n",
       "0  [{'time': '9:51 PM', 'type': 'PAGEVIEW', 'repe...  {'PAGEVIEW': '1'}   \n",
       "1  [{'time': '8:15 PM', 'type': 'PAGEVIEW', 'repe...  {'PAGEVIEW': '1'}   \n",
       "2  [{'time': '7:02 PM', 'type': 'PAGEVIEW', 'repe...  {'PAGEVIEW': '1'}   \n",
       "\n",
       "    channel deviceCategory duration  \n",
       "0  Referral        desktop    00:00  \n",
       "1  Referral        desktop    00:00  \n",
       "2  Referral        desktop    00:00  "
      ]
     },
     "execution_count": 21,
     "metadata": {},
     "output_type": "execute_result"
    }
   ],
   "source": [
    "# Exploring 2nd level dataset under node 'sessions' (record_path = 'sessions')\n",
    "\n",
    "#sessions_data = json_normalize(data = raw_data['dates'], \n",
    "#                               record_path = 'sessions')\n",
    "#sessions_data.head(3).head(3)"
   ]
  },
  {
   "cell_type": "code",
   "execution_count": 53,
   "metadata": {},
   "outputs": [
    {
     "data": {
      "text/plain": [
       "pandas.core.series.Series"
      ]
     },
     "execution_count": 53,
     "metadata": {},
     "output_type": "execute_result"
    }
   ],
   "source": [
    "type(sessions_data.activitySummary)"
   ]
  },
  {
   "cell_type": "code",
   "execution_count": 32,
   "metadata": {},
   "outputs": [
    {
     "data": {
      "text/html": [
       "<div>\n",
       "<style>\n",
       "    .dataframe thead tr:only-child th {\n",
       "        text-align: right;\n",
       "    }\n",
       "\n",
       "    .dataframe thead th {\n",
       "        text-align: left;\n",
       "    }\n",
       "\n",
       "    .dataframe tbody tr th {\n",
       "        vertical-align: top;\n",
       "    }\n",
       "</style>\n",
       "<table border=\"1\" class=\"dataframe\">\n",
       "  <thead>\n",
       "    <tr style=\"text-align: right;\">\n",
       "      <th></th>\n",
       "      <th>activitySummary</th>\n",
       "    </tr>\n",
       "  </thead>\n",
       "  <tbody>\n",
       "    <tr>\n",
       "      <th>0</th>\n",
       "      <td>{'PAGEVIEW': '1'}</td>\n",
       "    </tr>\n",
       "    <tr>\n",
       "      <th>1</th>\n",
       "      <td>{'PAGEVIEW': '1'}</td>\n",
       "    </tr>\n",
       "    <tr>\n",
       "      <th>2</th>\n",
       "      <td>{'PAGEVIEW': '1'}</td>\n",
       "    </tr>\n",
       "    <tr>\n",
       "      <th>3</th>\n",
       "      <td>{'PAGEVIEW': '1'}</td>\n",
       "    </tr>\n",
       "    <tr>\n",
       "      <th>4</th>\n",
       "      <td>{'PAGEVIEW': '1'}</td>\n",
       "    </tr>\n",
       "  </tbody>\n",
       "</table>\n",
       "</div>"
      ],
      "text/plain": [
       "     activitySummary\n",
       "0  {'PAGEVIEW': '1'}\n",
       "1  {'PAGEVIEW': '1'}\n",
       "2  {'PAGEVIEW': '1'}\n",
       "3  {'PAGEVIEW': '1'}\n",
       "4  {'PAGEVIEW': '1'}"
      ]
     },
     "execution_count": 32,
     "metadata": {},
     "output_type": "execute_result"
    }
   ],
   "source": [
    "activitySummaryPAGEVIEW = pd.DataFrame(sessions_data.activitySummary)\n",
    "activitySummaryPAGEVIEW.head(5)"
   ]
  },
  {
   "cell_type": "code",
   "execution_count": null,
   "metadata": {
    "collapsed": true
   },
   "outputs": [],
   "source": []
  },
  {
   "cell_type": "code",
   "execution_count": null,
   "metadata": {
    "collapsed": true
   },
   "outputs": [],
   "source": []
  },
  {
   "cell_type": "code",
   "execution_count": null,
   "metadata": {
    "collapsed": true
   },
   "outputs": [],
   "source": []
  },
  {
   "cell_type": "code",
   "execution_count": null,
   "metadata": {
    "collapsed": true
   },
   "outputs": [],
   "source": []
  },
  {
   "cell_type": "code",
   "execution_count": 8,
   "metadata": {},
   "outputs": [
    {
     "name": "stdout",
     "output_type": "stream",
     "text": [
      "['date', 'hasGoal', 'hasRevenue', 'sessionCount']\n"
     ]
    }
   ],
   "source": [
    "# copying  top level dataset with known top level parent node 'dates' into dataframe top_level_dataset\n",
    "top_level_dataset = json_normalize(raw_data['dates'])\n",
    "\n",
    "# saving names of columns of top_level_dataset into tld_columns_list \n",
    "tld_columns_list = []\n",
    "for elem in top_level_dataset.columns.values:\n",
    "    tld_columns_list.append(elem)\n",
    "print(tld_columns_list[:4])"
   ]
  },
  {
   "cell_type": "code",
   "execution_count": 9,
   "metadata": {},
   "outputs": [
    {
     "name": "stdout",
     "output_type": "stream",
     "text": [
      "['activities', 'activitySummary', 'channel', 'deviceCategory', 'duration']\n"
     ]
    }
   ],
   "source": [
    "# copying  2nd level dataset under parent node 'sessions' into dataframe sessions_dataset\n",
    "sessions_dataset = json_normalize(data = raw_data['dates'], \n",
    "                               record_path = 'sessions')\n",
    "\n",
    "# saving names of columns of sessions_dataset into sessions_columns_list \n",
    "sessions_columns_list = []\n",
    "for elem in sessions_dataset.columns.values:\n",
    "    sessions_columns_list.append(elem)\n",
    "print(sessions_columns_list)"
   ]
  },
  {
   "cell_type": "code",
   "execution_count": 36,
   "metadata": {},
   "outputs": [
    {
     "name": "stdout",
     "output_type": "stream",
     "text": [
      "['details', 'pageTitle', 'repeatActivityTimes', 'time', 'type']\n"
     ]
    }
   ],
   "source": [
    "# copying  3nd level dataset under parent node 'activities' into dataframe activities_dataset\n",
    "activities_dataset = json_normalize(data = raw_data['dates'], record_path = ['sessions','activities'])\n",
    "\n",
    "# saving names of columns of activities_dataset into activities_columns_list \n",
    "activities_columns_list = []\n",
    "for elem in activities_dataset.columns.values:\n",
    "    activities_columns_list.append(elem)\n",
    "print(activities_columns_list)"
   ]
  },
  {
   "cell_type": "code",
   "execution_count": 38,
   "metadata": {},
   "outputs": [
    {
     "name": "stdout",
     "output_type": "stream",
     "text": [
      "['URL страницы', 'Заголовок страницы']\n"
     ]
    }
   ],
   "source": [
    "# copying  4nd level dataset under parent node 'details' into dataframe details_dataset\n",
    "details_dataset = json_normalize(data = raw_data['dates'], record_path = ['sessions','activities','details'])\n",
    "\n",
    "# saving names of columns of details_dataset into details_columns_list \n",
    "details_columns_list = []\n",
    "for elem in details_dataset.columns.values:\n",
    "    details_columns_list.append(elem)\n",
    "print(details_columns_list)"
   ]
  },
  {
   "cell_type": "code",
   "execution_count": 14,
   "metadata": {},
   "outputs": [
    {
     "data": {
      "text/html": [
       "<div>\n",
       "<style>\n",
       "    .dataframe thead tr:only-child th {\n",
       "        text-align: right;\n",
       "    }\n",
       "\n",
       "    .dataframe thead th {\n",
       "        text-align: left;\n",
       "    }\n",
       "\n",
       "    .dataframe tbody tr th {\n",
       "        vertical-align: top;\n",
       "    }\n",
       "</style>\n",
       "<table border=\"1\" class=\"dataframe\">\n",
       "  <thead>\n",
       "    <tr style=\"text-align: right;\">\n",
       "      <th></th>\n",
       "      <th>details</th>\n",
       "      <th>pageTitle</th>\n",
       "      <th>repeatActivityTimes</th>\n",
       "      <th>time</th>\n",
       "      <th>type</th>\n",
       "      <th>date</th>\n",
       "      <th>sessions.activitySummary</th>\n",
       "    </tr>\n",
       "  </thead>\n",
       "  <tbody>\n",
       "    <tr>\n",
       "      <th>0</th>\n",
       "      <td>[{'Заголовок страницы': ['Инструменты для созд...</td>\n",
       "      <td>Инструменты для создания Хранилищ данных | Пуб...</td>\n",
       "      <td>[]</td>\n",
       "      <td>9:51 PM</td>\n",
       "      <td>PAGEVIEW</td>\n",
       "      <td>мая 31, 2018</td>\n",
       "      <td>{'PAGEVIEW': '1'}</td>\n",
       "    </tr>\n",
       "    <tr>\n",
       "      <th>1</th>\n",
       "      <td>[{'Заголовок страницы': ['Инструменты для созд...</td>\n",
       "      <td>Инструменты для создания Хранилищ данных | Пуб...</td>\n",
       "      <td>[]</td>\n",
       "      <td>8:15 PM</td>\n",
       "      <td>PAGEVIEW</td>\n",
       "      <td>мая 31, 2018</td>\n",
       "      <td>{'PAGEVIEW': '1'}</td>\n",
       "    </tr>\n",
       "    <tr>\n",
       "      <th>2</th>\n",
       "      <td>[{'Заголовок страницы': ['Инструменты для созд...</td>\n",
       "      <td>Инструменты для создания Хранилищ данных | Пуб...</td>\n",
       "      <td>[]</td>\n",
       "      <td>7:02 PM</td>\n",
       "      <td>PAGEVIEW</td>\n",
       "      <td>мая 31, 2018</td>\n",
       "      <td>{'PAGEVIEW': '1'}</td>\n",
       "    </tr>\n",
       "  </tbody>\n",
       "</table>\n",
       "</div>"
      ],
      "text/plain": [
       "                                             details  \\\n",
       "0  [{'Заголовок страницы': ['Инструменты для созд...   \n",
       "1  [{'Заголовок страницы': ['Инструменты для созд...   \n",
       "2  [{'Заголовок страницы': ['Инструменты для созд...   \n",
       "\n",
       "                                           pageTitle repeatActivityTimes  \\\n",
       "0  Инструменты для создания Хранилищ данных | Пуб...                  []   \n",
       "1  Инструменты для создания Хранилищ данных | Пуб...                  []   \n",
       "2  Инструменты для создания Хранилищ данных | Пуб...                  []   \n",
       "\n",
       "      time      type          date sessions.activitySummary  \n",
       "0  9:51 PM  PAGEVIEW  мая 31, 2018        {'PAGEVIEW': '1'}  \n",
       "1  8:15 PM  PAGEVIEW  мая 31, 2018        {'PAGEVIEW': '1'}  \n",
       "2  7:02 PM  PAGEVIEW  мая 31, 2018        {'PAGEVIEW': '1'}  "
      ]
     },
     "execution_count": 14,
     "metadata": {},
     "output_type": "execute_result"
    }
   ],
   "source": [
    "activities_data.head(3)"
   ]
  },
  {
   "cell_type": "code",
   "execution_count": 39,
   "metadata": {},
   "outputs": [
    {
     "data": {
      "text/html": [
       "<div>\n",
       "<style>\n",
       "    .dataframe thead tr:only-child th {\n",
       "        text-align: right;\n",
       "    }\n",
       "\n",
       "    .dataframe thead th {\n",
       "        text-align: left;\n",
       "    }\n",
       "\n",
       "    .dataframe tbody tr th {\n",
       "        vertical-align: top;\n",
       "    }\n",
       "</style>\n",
       "<table border=\"1\" class=\"dataframe\">\n",
       "  <thead>\n",
       "    <tr style=\"text-align: right;\">\n",
       "      <th></th>\n",
       "      <th>URL страницы</th>\n",
       "      <th>Заголовок страницы</th>\n",
       "    </tr>\n",
       "  </thead>\n",
       "  <tbody>\n",
       "    <tr>\n",
       "      <th>0</th>\n",
       "      <td>[/ru/press-center/publications/1407.phtml]</td>\n",
       "      <td>[Инструменты для создания Хранилищ данных | Пу...</td>\n",
       "    </tr>\n",
       "    <tr>\n",
       "      <th>1</th>\n",
       "      <td>[/ru/press-center/publications/1407.phtml]</td>\n",
       "      <td>[Инструменты для создания Хранилищ данных | Пу...</td>\n",
       "    </tr>\n",
       "    <tr>\n",
       "      <th>2</th>\n",
       "      <td>[/ru/press-center/publications/1407.phtml]</td>\n",
       "      <td>[Инструменты для создания Хранилищ данных | Пу...</td>\n",
       "    </tr>\n",
       "  </tbody>\n",
       "</table>\n",
       "</div>"
      ],
      "text/plain": [
       "                                 URL страницы  \\\n",
       "0  [/ru/press-center/publications/1407.phtml]   \n",
       "1  [/ru/press-center/publications/1407.phtml]   \n",
       "2  [/ru/press-center/publications/1407.phtml]   \n",
       "\n",
       "                                  Заголовок страницы  \n",
       "0  [Инструменты для создания Хранилищ данных | Пу...  \n",
       "1  [Инструменты для создания Хранилищ данных | Пу...  \n",
       "2  [Инструменты для создания Хранилищ данных | Пу...  "
      ]
     },
     "execution_count": 39,
     "metadata": {},
     "output_type": "execute_result"
    }
   ],
   "source": [
    "details_dataset.head(3)"
   ]
  },
  {
   "cell_type": "code",
   "execution_count": 46,
   "metadata": {},
   "outputs": [
    {
     "data": {
      "text/plain": [
       "\"['Инструменты для создания Хранилищ данных | Публикации | Пресс-центр | Intersoft Lab']\""
      ]
     },
     "execution_count": 46,
     "metadata": {},
     "output_type": "execute_result"
    }
   ],
   "source": [
    "str(details_dataset.iat[0,1])"
   ]
  },
  {
   "cell_type": "code",
   "execution_count": null,
   "metadata": {
    "collapsed": true
   },
   "outputs": [],
   "source": []
  },
  {
   "cell_type": "code",
   "execution_count": null,
   "metadata": {
    "collapsed": true
   },
   "outputs": [],
   "source": []
  },
  {
   "cell_type": "code",
   "execution_count": null,
   "metadata": {
    "collapsed": true
   },
   "outputs": [],
   "source": []
  },
  {
   "cell_type": "code",
   "execution_count": null,
   "metadata": {
    "collapsed": true
   },
   "outputs": [],
   "source": []
  },
  {
   "cell_type": "code",
   "execution_count": null,
   "metadata": {
    "collapsed": true
   },
   "outputs": [],
   "source": []
  }
 ],
 "metadata": {
  "kernelspec": {
   "display_name": "Python 3",
   "language": "python",
   "name": "python3"
  },
  "language_info": {
   "codemirror_mode": {
    "name": "ipython",
    "version": 3
   },
   "file_extension": ".py",
   "mimetype": "text/x-python",
   "name": "python",
   "nbconvert_exporter": "python",
   "pygments_lexer": "ipython3",
   "version": "3.6.3"
  }
 },
 "nbformat": 4,
 "nbformat_minor": 2
}
